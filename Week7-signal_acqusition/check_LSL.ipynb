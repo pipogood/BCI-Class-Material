{
 "cells": [
  {
   "cell_type": "code",
   "execution_count": 1,
   "id": "59d442da",
   "metadata": {},
   "outputs": [
    {
     "name": "stdout",
     "output_type": "stream",
     "text": [
      "Collecting pylsl==1.16.1\n",
      "  Using cached pylsl-1.16.1-py2.py3-none-win_amd64.whl.metadata (7.3 kB)\n",
      "Using cached pylsl-1.16.1-py2.py3-none-win_amd64.whl (353 kB)\n",
      "Installing collected packages: pylsl\n",
      "Successfully installed pylsl-1.16.1\n"
     ]
    },
    {
     "name": "stderr",
     "output_type": "stream",
     "text": [
      "\n",
      "[notice] A new release of pip is available: 25.0.1 -> 25.1\n",
      "[notice] To update, run: python.exe -m pip install --upgrade pip\n"
     ]
    }
   ],
   "source": [
    "!pip install pylsl==1.16.1"
   ]
  },
  {
   "cell_type": "code",
   "execution_count": null,
   "id": "0ca4b229",
   "metadata": {},
   "outputs": [
    {
     "name": "stdout",
     "output_type": "stream",
     "text": [
      "Looking for LSL stream with name: EventStream\n",
      "Now receiving data...\n",
      "Timestamp: 2355.6595512, Data: ['R']\n",
      "Timestamp: 2364.6488709, Data: ['D']\n",
      "Timestamp: 2373.6544694, Data: ['L']\n",
      "Timestamp: 2382.6713507, Data: ['L']\n",
      "Timestamp: 2391.6504413, Data: ['D']\n",
      "Timestamp: 2400.6507025, Data: ['R']\n",
      "Timestamp: 2403.6952963, Data: ['']\n"
     ]
    }
   ],
   "source": [
    "from pylsl import StreamInlet, resolve_stream\n",
    "\n",
    "# Step 1: Resolve stream by name\n",
    "stream_name = \"EventStream\"  # Change this to your actual stream name\n",
    "print(f\"Looking for LSL stream with name: {stream_name}\")\n",
    "streams = resolve_stream('name', stream_name)\n",
    "\n",
    "# Step 2: Create an inlet to read from the stream\n",
    "inlet = StreamInlet(streams[0])\n",
    "\n",
    "# Step 3: Receive and print data\n",
    "print(\"Now receiving data...\")\n",
    "while True:\n",
    "    sample, timestamp = inlet.pull_sample()\n",
    "    print(f\"Timestamp: {timestamp}, Data: {sample}\")"
   ]
  }
 ],
 "metadata": {
  "kernelspec": {
   "display_name": ".venv",
   "language": "python",
   "name": "python3"
  },
  "language_info": {
   "codemirror_mode": {
    "name": "ipython",
    "version": 3
   },
   "file_extension": ".py",
   "mimetype": "text/x-python",
   "name": "python",
   "nbconvert_exporter": "python",
   "pygments_lexer": "ipython3",
   "version": "3.11.0"
  }
 },
 "nbformat": 4,
 "nbformat_minor": 5
}
